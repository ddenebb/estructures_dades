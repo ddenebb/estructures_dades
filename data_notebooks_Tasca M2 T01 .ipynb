{
  "metadata": {
    "kernelspec": {
      "name": "python",
      "display_name": "Python (Pyodide)",
      "language": "python"
    },
    "language_info": {
      "codemirror_mode": {
        "name": "python",
        "version": 3
      },
      "file_extension": ".py",
      "mimetype": "text/x-python",
      "name": "python",
      "nbconvert_exporter": "python",
      "pygments_lexer": "ipython3",
      "version": "3.8"
    }
  },
  "nbformat_minor": 4,
  "nbformat": 4,
  "cells": [
    {
      "cell_type": "code",
      "source": "#Exercici 1\nmonths = [[\"January\", \"February\", \"March\"],[\"April\", \"May\", \"June\"],[\"July\", \"August\", \"September\"],[\"October\", \"November\", \"December\"]]\nprint(months)",
      "metadata": {
        "trusted": true
      },
      "execution_count": 67,
      "outputs": [
        {
          "name": "stdout",
          "text": "[['January', 'February', 'March'], ['April', 'May', 'June'], ['July', 'August', 'September'], ['October', 'November', 'December']]\n",
          "output_type": "stream"
        }
      ]
    },
    {
      "cell_type": "code",
      "source": "#Exercici 2\nT1 = months[0]\nmonth = T1[1]\nprint(month)\n\nT1 = months[0]\nprint(T1)\n\nT3 = months[2]\nT4 = months[3]\nmonths_sel = [T3[2],T4[0]]\nprint(months_sel)\n    ",
      "metadata": {
        "trusted": true
      },
      "execution_count": 68,
      "outputs": [
        {
          "name": "stdout",
          "text": "February\n['January', 'February', 'March']\n['September', 'October']\n",
          "output_type": "stream"
        }
      ]
    },
    {
      "cell_type": "code",
      "source": "#Exercici 3\nnumbers= [7,4,5,1,34,56,3,8,97,46, 38,4,4,3,3,3,3,21,2,6,4,3,3,44,4,4,4,5,6,8,9,4,4]\nprint(numbers)\n\nnumber_of_elements = len(numbers)\nprint(number_of_elements)\n\ndef get_number_of_elements(numbers):\n    count = 0\n    for element in numbers:\n        count += 1\n    return count\n\nprint(\"Number of elements in the list: \", get_number_of_elements(numbers))\n\nx = 0\nfor i in numbers:\n    if i == 3:\n        x= x+1   \nprint(x)\n\ndef get_ocurrences(numbers, number):\n    count = 0\n    for i in numbers:\n        if i == number:\n            count += 1\n    return count\n\nprint(\"Number of ocurrences in the list: \", get_ocurrences(numbers, 3))\n\nx = 0\nfor i in numbers:\n    if i == 3 or i == 4:\n        x= x+1   \nprint(x)\n\ndef get_ocurrences(numbers, number_a, number_b):\n    count = 0\n    for i in numbers:\n        if i == number_a or i == number_b:\n            count += 1\n    return count\n\nprint(\"Number of ocurrences in the list: \", get_ocurrences(numbers, 3, 4))\n\nprint(max(numbers))\n\nprint(sorted(numbers)[:3])\n\ndef minmax(numbers):\n    min_val = min(numbers)\n    max_val = max(numbers)\n\n    return (min_val, max_val)\nprint(minmax(numbers))",
      "metadata": {
        "trusted": true
      },
      "execution_count": 69,
      "outputs": [
        {
          "name": "stdout",
          "text": "[7, 4, 5, 1, 34, 56, 3, 8, 97, 46, 38, 4, 4, 3, 3, 3, 3, 21, 2, 6, 4, 3, 3, 44, 4, 4, 4, 5, 6, 8, 9, 4, 4]\n33\nNumber of elements in the list:  33\n7\nNumber of ocurrences in the list:  7\n16\nNumber of ocurrences in the list:  16\n97\n[1, 2, 3]\n(1, 97)\n",
          "output_type": "stream"
        }
      ]
    },
    {
      "cell_type": "code",
      "source": "#Exercici 3\ncompra = { \"Pomes\" : {\"Qty\": 5, \"€\": 0.42}, \"Peres\" : {\"Qty\": 3, \"€\": 0.66} } \n    \ncompra[\"Mandarines\"] = {\"Qty\": 4, \"€\": 0.95}\nprint(compra)",
      "metadata": {
        "trusted": true
      },
      "execution_count": 178,
      "outputs": [
        {
          "name": "stdout",
          "text": "{'Pomes': {'Qty': 5, '€': 0.42}, 'Peres': {'Qty': 3, '€': 0.66}, 'Mandarines': {'Qty': 4, '€': 0.95}}\n",
          "output_type": "stream"
        }
      ]
    },
    {
      "cell_type": "code",
      "source": "def get_price(compra):\n    values = compra['Peres']\n    a = values['Qty']\n    b = values['€']\n    price = a*b\n    return price\n\nprint(\"Price is \", get_price(compra))",
      "metadata": {
        "trusted": true
      },
      "execution_count": 179,
      "outputs": [
        {
          "name": "stdout",
          "text": "Price is  1.98\n",
          "output_type": "stream"
        }
      ]
    },
    {
      "cell_type": "code",
      "source": "def num_of_items(compra):\n    sum_ = 0\n    for k,v in compra.items():\n        if v:        # to ignore None \n            try:     # this to avoid key error\n                sum_ += v['Qty']\n            except:\n                pass\n    return(sum_)\n            \nprint(\"Number of fruits items is\", num_of_items(compra))\n",
      "metadata": {
        "trusted": true
      },
      "execution_count": 180,
      "outputs": [
        {
          "name": "stdout",
          "text": "Number of fruits items is 12\n",
          "output_type": "stream"
        }
      ]
    },
    {
      "cell_type": "code",
      "source": "def most_exp(compra):\n\n    x = 0\n    for k,v in compra.items():\n        if v:        # to ignore None \n            try:     # this to avoid key error\n                if v['€'] > x:\n                    x = v['€']\n            except:\n                pass\n    print(x)\n    return(x)\n\ndef get_key(val):\n    for key, value in compra.items():\n         if v:        # to ignore None\n            try:     # this to avoid key error\n                if val == value:\n                    print (val)\n            except:\n                pass\n    return (key)\n        \nprint(\"Most expensive fruit is\",get_key(most_exp(compra)))",
      "metadata": {
        "trusted": true
      },
      "execution_count": 183,
      "outputs": [
        {
          "name": "stdout",
          "text": "0.95\nMost expensive fruit is Mandarines\n",
          "output_type": "stream"
        }
      ]
    },
    {
      "cell_type": "code",
      "source": "",
      "metadata": {},
      "execution_count": null,
      "outputs": []
    },
    {
      "cell_type": "code",
      "source": "",
      "metadata": {},
      "execution_count": null,
      "outputs": []
    },
    {
      "cell_type": "code",
      "source": "",
      "metadata": {},
      "execution_count": null,
      "outputs": []
    }
  ]
}